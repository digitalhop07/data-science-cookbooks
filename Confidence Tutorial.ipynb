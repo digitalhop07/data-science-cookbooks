{
 "cells": [
  {
   "cell_type": "code",
   "execution_count": null,
   "metadata": {},
   "outputs": [],
   "source": [
    "import pandas as pd\n",
    "import numpy as np\n",
    "import confidence"
   ]
  },
  {
   "cell_type": "markdown",
   "metadata": {},
   "source": [
    "# Let's generate some example data"
   ]
  },
  {
   "cell_type": "code",
   "execution_count": null,
   "metadata": {},
   "outputs": [],
   "source": [
    "data = confidence.examples.example_data()\n",
    "data.head()"
   ]
  },
  {
   "cell_type": "markdown",
   "metadata": {},
   "source": [
    "__Cool, now let's walk through some use cases!__\n"
   ]
  },
  {
   "cell_type": "markdown",
   "metadata": {},
   "source": [
    "## You have one categorical variable (e.g. a country), and you'd like to see the proportion of successes along with a confidence interval"
   ]
  },
  {
   "cell_type": "code",
   "execution_count": null,
   "metadata": {},
   "outputs": [],
   "source": [
    "# Let's choose the test variation for now, and then we'll aggreate over all dates in the test\n",
    "single_group_df = (data.loc[lambda x: (x.country == 'us') & (x.variation_name == 'test')]\n",
    "                        .groupby(by='country')[['success', 'total']].sum()\n",
    "                        .reset_index()\n",
    "      )\n",
    "single_group_df"
   ]
  },
  {
   "cell_type": "markdown",
   "metadata": {},
   "source": [
    "## To get started with this case, instantiate an object for the ChiSquared model"
   ]
  },
  {
   "cell_type": "code",
   "execution_count": null,
   "metadata": {},
   "outputs": [],
   "source": [
    "single_group = confidence.ChiSquared(data_frame=single_group_df,\n",
    "                                     numerator_column='success',\n",
    "                                     denominator_column='total',\n",
    "                                     categorical_group_columns='country')"
   ]
  },
  {
   "cell_type": "markdown",
   "metadata": {},
   "source": [
    "### To see what methods are available, try a couple things:"
   ]
  },
  {
   "cell_type": "code",
   "execution_count": null,
   "metadata": {},
   "outputs": [],
   "source": [
    "# This reveals the documentation and can help with syntax\n",
    "single_group?"
   ]
  },
  {
   "cell_type": "code",
   "execution_count": null,
   "metadata": {},
   "outputs": [],
   "source": [
    "# press tab on the line below to reveal the available methods in this class\n",
    "single_group."
   ]
  },
  {
   "cell_type": "code",
   "execution_count": null,
   "metadata": {},
   "outputs": [],
   "source": [
    "# You can also use this to see whats available from the base module\n",
    "confidence."
   ]
  },
  {
   "cell_type": "markdown",
   "metadata": {},
   "source": [
    "### Let's start with the summary method for now, which will return the the probability along with the 95% confidence interval"
   ]
  },
  {
   "cell_type": "code",
   "execution_count": null,
   "metadata": {},
   "outputs": [],
   "source": [
    "single_group.summary()"
   ]
  },
  {
   "cell_type": "code",
   "execution_count": null,
   "metadata": {},
   "outputs": [],
   "source": [
    "# That's fun, but I want to plot the data!\n",
    "single_group.summary_plot().show()"
   ]
  },
  {
   "cell_type": "markdown",
   "metadata": {},
   "source": [
    "### We've just created a plot of the confidence interval of the single \"us\" category"
   ]
  },
  {
   "cell_type": "markdown",
   "metadata": {},
   "source": [
    "## Your turn! Generate an interval plot for the canada control group"
   ]
  },
  {
   "cell_type": "code",
   "execution_count": null,
   "metadata": {},
   "outputs": [],
   "source": [
    "## Your code goes here\n"
   ]
  },
  {
   "cell_type": "markdown",
   "metadata": {},
   "source": [
    "# Now let's look at a categorical variable with multiple levels (e.g. a test variation), and you'd like to make inferences on the difference between those groups"
   ]
  },
  {
   "cell_type": "code",
   "execution_count": null,
   "metadata": {},
   "outputs": [],
   "source": [
    "multi_level_df = (data\n",
    "                .groupby(by='variation_name')[['success', 'total']].sum()\n",
    "                .reset_index())\n",
    "multi_level_df"
   ]
  },
  {
   "cell_type": "markdown",
   "metadata": {},
   "source": [
    "## Your turn! Instantiate the Chi Squared test below"
   ]
  },
  {
   "cell_type": "code",
   "execution_count": null,
   "metadata": {},
   "outputs": [],
   "source": [
    "multi_level_test = confidence.ChiSquared(# Fill in the parameters here)"
   ]
  },
  {
   "cell_type": "markdown",
   "metadata": {},
   "source": [
    "## Notice how the summary in this case outputs a confidence interval for each group"
   ]
  },
  {
   "cell_type": "code",
   "execution_count": null,
   "metadata": {},
   "outputs": [],
   "source": [
    "multi_level_test.summary()"
   ]
  },
  {
   "cell_type": "markdown",
   "metadata": {},
   "source": [
    "## Same with the plot method"
   ]
  },
  {
   "cell_type": "code",
   "execution_count": null,
   "metadata": {},
   "outputs": [],
   "source": [
    "multi_level_test.summary_plot().show()"
   ]
  },
  {
   "cell_type": "markdown",
   "metadata": {},
   "source": [
    "## Now that we have two groups, it's meaningful to consider the difference between the two groups"
   ]
  },
  {
   "cell_type": "code",
   "execution_count": null,
   "metadata": {
    "scrolled": false
   },
   "outputs": [],
   "source": [
    "multi_level_test.difference(level_1='control', level_2='test', absolute=True)"
   ]
  },
  {
   "cell_type": "markdown",
   "metadata": {},
   "source": [
    "## Note the columns above -- what does each mean?"
   ]
  },
  {
   "cell_type": "markdown",
   "metadata": {},
   "source": [
    "## Your turn: Test the difference between control and test, but this time return the relative % difference."
   ]
  },
  {
   "cell_type": "code",
   "execution_count": null,
   "metadata": {},
   "outputs": [],
   "source": [
    "# Todo: Write your code here."
   ]
  },
  {
   "cell_type": "markdown",
   "metadata": {},
   "source": [
    "## We can also visualize the confidence interval of the difference in probability between the two groups"
   ]
  },
  {
   "cell_type": "code",
   "execution_count": null,
   "metadata": {},
   "outputs": [],
   "source": [
    "multi_level_test.difference_plot(level_1='control', level_2='test').show()"
   ]
  },
  {
   "cell_type": "markdown",
   "metadata": {},
   "source": [
    "# Multiple categorical groups"
   ]
  },
  {
   "cell_type": "code",
   "execution_count": null,
   "metadata": {},
   "outputs": [],
   "source": [
    "multi_group_df = (data.groupby(['variation_name', 'country'])[['success', 'total']].sum()\n",
    "        .reset_index())\n",
    "multi_group_df"
   ]
  },
  {
   "cell_type": "markdown",
   "metadata": {},
   "source": [
    "## Your turn: Implement a chisquared test with 2 categorical groups"
   ]
  },
  {
   "cell_type": "code",
   "execution_count": null,
   "metadata": {},
   "outputs": [],
   "source": [
    "multi_group_test = # Fill in"
   ]
  },
  {
   "cell_type": "markdown",
   "metadata": {},
   "source": [
    "## Look at how the output changes with multiple groups"
   ]
  },
  {
   "cell_type": "code",
   "execution_count": null,
   "metadata": {},
   "outputs": [],
   "source": [
    "multi_group_test.summary()"
   ]
  },
  {
   "cell_type": "code",
   "execution_count": null,
   "metadata": {},
   "outputs": [],
   "source": [
    "multi_group_test.summary_plot().show()"
   ]
  },
  {
   "cell_type": "markdown",
   "metadata": {},
   "source": [
    "## Your turn: Look at how country and variation_name are grouped on the x-axis above. Try to flip the order of the grouping"
   ]
  },
  {
   "cell_type": "markdown",
   "metadata": {},
   "source": [
    "## Difference works a little differently with multiple groups. For each variation you need to specify levels of both groupings with a tuple or list. E.g. ('test', 'us')"
   ]
  },
  {
   "cell_type": "markdown",
   "metadata": {},
   "source": [
    "## Your turn: Test the difference between \"us\" & \"test\" vs. \"us\" & \"control\""
   ]
  },
  {
   "cell_type": "code",
   "execution_count": null,
   "metadata": {},
   "outputs": [],
   "source": [
    "## Your code goes here"
   ]
  },
  {
   "cell_type": "markdown",
   "metadata": {},
   "source": [
    "## What if you wanted to test the difference between control and test for every level of the \"country\" variable? For this you can use the `groupby` kwarg."
   ]
  },
  {
   "cell_type": "markdown",
   "metadata": {},
   "source": [
    "## Your turn: Implement the difference between control and test for every level of \"country\" by using the `groupby` kwarg. "
   ]
  },
  {
   "cell_type": "code",
   "execution_count": null,
   "metadata": {},
   "outputs": [],
   "source": [
    "multi_group_test.difference(## Your input goes here)"
   ]
  },
  {
   "cell_type": "markdown",
   "metadata": {},
   "source": [
    "## Look at how the difference plot returns multiple groupbys"
   ]
  },
  {
   "cell_type": "code",
   "execution_count": null,
   "metadata": {},
   "outputs": [],
   "source": [
    "multi_group_test.difference_plot(# Fill in the parameters here (same as above) #).show()"
   ]
  },
  {
   "cell_type": "markdown",
   "metadata": {},
   "source": [
    "# Ordinal variables: We can also use confidence to generate visualizations for ordinal variables like time-series data (e.g. date) or numeric data (e.g. days since registration)\n"
   ]
  },
  {
   "cell_type": "code",
   "execution_count": null,
   "metadata": {},
   "outputs": [],
   "source": [
    "ordinal_group_df = (data.groupby(['variation_name', 'date'])[['success', 'total']].sum()\n",
    "        .reset_index())\n",
    "ordinal_group_df"
   ]
  },
  {
   "cell_type": "markdown",
   "metadata": {},
   "source": [
    "## Note: in order for ordinal data to work properly it must be cast to a numeric or datetime type"
   ]
  },
  {
   "cell_type": "code",
   "execution_count": null,
   "metadata": {},
   "outputs": [],
   "source": [
    "ordinal_group_df['date'] = pd.to_datetime(ordinal_group_df['date'])"
   ]
  },
  {
   "cell_type": "code",
   "execution_count": null,
   "metadata": {},
   "outputs": [],
   "source": [
    "ordinal_test = confidence.ChiSquared(data_frame=ordinal_group_df,\n",
    "                                     numerator_column='success',\n",
    "                                     denominator_column='total',\n",
    "                                     categorical_group_columns='variation_name',\n",
    "                                     ordinal_group_column='date')"
   ]
  },
  {
   "cell_type": "markdown",
   "metadata": {},
   "source": [
    "## Look at how the summary and summary_plot outputs change when an ordinal group is included"
   ]
  },
  {
   "cell_type": "code",
   "execution_count": null,
   "metadata": {},
   "outputs": [],
   "source": [
    "ordinal_test.summary()"
   ]
  },
  {
   "cell_type": "code",
   "execution_count": null,
   "metadata": {},
   "outputs": [],
   "source": [
    "ordinal_test.summary_plot().show()"
   ]
  },
  {
   "cell_type": "markdown",
   "metadata": {},
   "source": [
    "# Bayesian models:\n",
    "- Confidence also includes bayesian models. We'll walk through an example to see how the output changes."
   ]
  },
  {
   "cell_type": "code",
   "execution_count": null,
   "metadata": {},
   "outputs": [],
   "source": [
    "bayesian_df = (data.groupby(['variation_name'])[['success', 'total']].sum()\n",
    "        .reset_index())\n",
    "bayesian_df"
   ]
  },
  {
   "cell_type": "markdown",
   "metadata": {},
   "source": [
    "## Your turn: Implement a BetaBinomial model with the data above.\n",
    "- The API is exactly the same as the frequentist case!"
   ]
  },
  {
   "cell_type": "code",
   "execution_count": null,
   "metadata": {},
   "outputs": [],
   "source": [
    "bayesian_test = confidence.BetaBinomial(data_frame=bayesian_df,\n",
    "                                        numerator_column='success',\n",
    "                                        denominator_column='total',\n",
    "                                        categorical_group_columns='variation_name')"
   ]
  },
  {
   "cell_type": "markdown",
   "metadata": {},
   "source": [
    "## The .summary() method output looks similar, but this time the intervals are credible intervals"
   ]
  },
  {
   "cell_type": "code",
   "execution_count": null,
   "metadata": {},
   "outputs": [],
   "source": [
    "bayesian_test.summary()"
   ]
  },
  {
   "cell_type": "markdown",
   "metadata": {},
   "source": [
    "## The summary plot outputs the probability density of the posterior distribution for each variation. This represents our belief of the underlying \"success rate\" for each variation given the data collected so far."
   ]
  },
  {
   "cell_type": "code",
   "execution_count": null,
   "metadata": {},
   "outputs": [],
   "source": [
    "bayesian_test.summary_plot().show()"
   ]
  },
  {
   "cell_type": "markdown",
   "metadata": {},
   "source": [
    "## The difference method returns:\n",
    "- p2-p1 mean: Our best estimate of the difference between variation 2 and 1. (Posterior mean of the difference between variation 1 and variation 2.)\n",
    "- ci_lower: Lower credible interval\n",
    "- ci_upper: Upper credible interval\n",
    "- P(variation_2 > variation_1): Probability that the success rate of variation_2 is greater than that of variation_1\n",
    "- variation_1 potential loss: The expected loss if we switch to variation 1, but variation 2 is actually better.\n",
    "- variation_1 potential gain: The expected gain if we \n",
    "    switch to variation 1, and variation 1 is actually better.\n",
    "- variation_2 potential loss: The expected loss if we \n",
    "    switch to variation 2, but variation 1 is actually better.\n",
    "- variation_2 potential gain: The expected gain if we \n",
    "    switch to variation 2, and variation 2 is actually better.\n",
    "    \n",
    "__If you need to look this up again, refer to the .difference documentation__"
   ]
  },
  {
   "cell_type": "code",
   "execution_count": null,
   "metadata": {},
   "outputs": [],
   "source": [
    "bayesian_test.difference(level_1='control', level_2='test')"
   ]
  },
  {
   "cell_type": "markdown",
   "metadata": {},
   "source": [
    "## We can also visualize the posterior distribution of the difference in probability between the two groups"
   ]
  },
  {
   "cell_type": "code",
   "execution_count": null,
   "metadata": {},
   "outputs": [],
   "source": [
    "bayesian_test.difference_plot(level_1='test', level_2='test2').show()"
   ]
  },
  {
   "cell_type": "markdown",
   "metadata": {},
   "source": [
    "# Bayesian AB testing works a little differently than the Frequentist approach\n",
    "- Rather than using \"statistical significance\" as a decision criteria, we use \"expected loss\" to determine when to end the test. The use of \"expected loss\" allows us to potentially end tests sooner.\n",
    "- Expected loss is a measure of risk -- it can be interpreted as the rate difference (e.g. conversion difference) that we would lose if we were to switch to the apparent winning variation given the data so far, but it were _actually_ the losing variation.\n",
    "- When running a Bayesian AB test we choose a risk threshold in advance. We end the test when potential loss falls under the threshold.\n",
    "- __We'll follow up with a more detailed explaination of the stats and this approach, both for data scientists and our stakeholders!__ In the meantime you can read more about it here:\n",
    "    - [AB testing at VWO](https://www.chrisstucchio.com/pubs/slides/gilt_bayesian_ab_2015/slides.html#1)\n",
    "    - [VWO whitepaper](https://cdn2.hubspot.net/hubfs/310840/VWO_SmartStats_technical_whitepaper.pdf)\n",
    "    - [Variance Explained blog](http://varianceexplained.org/r/bayesian-ab-testing/)"
   ]
  }
 ],
 "metadata": {
  "kernelspec": {
   "display_name": "Python 3",
   "language": "python",
   "name": "python3"
  },
  "language_info": {
   "codemirror_mode": {
    "name": "ipython",
    "version": 3
   },
   "file_extension": ".py",
   "mimetype": "text/x-python",
   "name": "python",
   "nbconvert_exporter": "python",
   "pygments_lexer": "ipython3",
   "version": "3.6.5"
  },
  "toc": {
   "nav_menu": {},
   "number_sections": true,
   "sideBar": true,
   "skip_h1_title": false,
   "toc_cell": false,
   "toc_position": {
    "height": "634px",
    "left": "0px",
    "right": "1328px",
    "top": "110px",
    "width": "212px"
   },
   "toc_section_display": "block",
   "toc_window_display": true
  }
 },
 "nbformat": 4,
 "nbformat_minor": 2
}
