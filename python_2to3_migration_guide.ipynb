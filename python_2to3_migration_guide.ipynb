{
 "cells": [
  {
   "cell_type": "markdown",
   "metadata": {},
   "source": [
    "# Python 3 is Here!\n",
    "well, it's been here for 10 years now, and it's great but some people haven't migreated yet, we are though!\n",
    "\n",
    "**As of ScienceBox 1.0 only Python 3 is supported**, but don't panic! they're not that different and this guide will get you familiar with things are and will help you migrate you existing notebooks.\n",
    "\n",
    "This only includes changes we felt like would affect data scientists at Spotify, for a more comprehensive list [check this out](http://python-future.org/compatible_idioms.html).\n",
    "\n",
    "## The Most Important Changes\n",
    "\n",
    "### Printing\n",
    "Printing is slightly different in Py3, you always need parentheses:"
   ]
  },
  {
   "cell_type": "code",
   "execution_count": 7,
   "metadata": {},
   "outputs": [
    {
     "name": "stdout",
     "output_type": "stream",
     "text": [
      "I'm a valid syntax\n",
      "I'm also a valid syntax\n"
     ]
    }
   ],
   "source": [
    "# Python 2\n",
    "print \"I'm a valid syntax\"\n",
    "print(\"I'm also a valid syntax\")"
   ]
  },
  {
   "cell_type": "code",
   "execution_count": 8,
   "metadata": {},
   "outputs": [
    {
     "name": "stdout",
     "output_type": "stream",
     "text": [
      "I'm the only valid syntax\n"
     ]
    }
   ],
   "source": [
    "# Python 3\n",
    "print(\"I'm the only valid syntax\")"
   ]
  },
  {
   "cell_type": "markdown",
   "metadata": {},
   "source": [
    "### Division\n",
    "in Py3 division by default results in a float, this wasn't the case in Py2:"
   ]
  },
  {
   "cell_type": "code",
   "execution_count": 3,
   "metadata": {},
   "outputs": [
    {
     "data": {
      "text/plain": [
       "1"
      ]
     },
     "metadata": {},
     "output_type": "display_data"
    },
    {
     "data": {
      "text/plain": [
       "1.3333333333333333"
      ]
     },
     "metadata": {},
     "output_type": "display_data"
    }
   ],
   "source": [
    "# Python 2\n",
    "display(4 / 3)\n",
    "\n",
    "display(4 / 3.0)"
   ]
  },
  {
   "cell_type": "code",
   "execution_count": 4,
   "metadata": {},
   "outputs": [
    {
     "data": {
      "text/plain": [
       "1.3333333333333333"
      ]
     },
     "metadata": {},
     "output_type": "display_data"
    },
    {
     "data": {
      "text/plain": [
       "1.3333333333333333"
      ]
     },
     "metadata": {},
     "output_type": "display_data"
    }
   ],
   "source": [
    "# Python 3\n",
    "display(4 / 3)\n",
    "\n",
    "display(4 / 3.0)"
   ]
  },
  {
   "cell_type": "markdown",
   "metadata": {},
   "source": [
    "If you really need to have an integer division either do `int(4 / 3)` or `4 // 3` ;)\n",
    "\n",
    "#### Where can it get you?\n",
    "when using it as list indexes for example:"
   ]
  },
  {
   "cell_type": "code",
   "execution_count": 5,
   "metadata": {},
   "outputs": [
    {
     "data": {
      "text/plain": [
       "'b'"
      ]
     },
     "execution_count": 5,
     "metadata": {},
     "output_type": "execute_result"
    }
   ],
   "source": [
    "# Python 2: this would have worked\n",
    "my_list = ['a', 'b', 'c']\n",
    "my_list[4 / 3]"
   ]
  },
  {
   "cell_type": "code",
   "execution_count": 6,
   "metadata": {},
   "outputs": [
    {
     "ename": "TypeError",
     "evalue": "list indices must be integers, not float",
     "output_type": "error",
     "traceback": [
      "\u001b[0;31m---------------------------------------------------------------------------\u001b[0m",
      "\u001b[0;31mTypeError\u001b[0m                                 Traceback (most recent call last)",
      "\u001b[0;32m<ipython-input-6-1c0228979ff3>\u001b[0m in \u001b[0;36m<module>\u001b[0;34m()\u001b[0m\n\u001b[1;32m      1\u001b[0m \u001b[0;31m# Python 3: not going to work\u001b[0m\u001b[0;34m\u001b[0m\u001b[0;34m\u001b[0m\u001b[0m\n\u001b[1;32m      2\u001b[0m \u001b[0mmy_list\u001b[0m \u001b[0;34m=\u001b[0m \u001b[0;34m[\u001b[0m\u001b[0;34m'a'\u001b[0m\u001b[0;34m,\u001b[0m \u001b[0;34m'b'\u001b[0m\u001b[0;34m,\u001b[0m \u001b[0;34m'c'\u001b[0m\u001b[0;34m]\u001b[0m\u001b[0;34m\u001b[0m\u001b[0m\n\u001b[0;32m----> 3\u001b[0;31m \u001b[0mmy_list\u001b[0m\u001b[0;34m[\u001b[0m\u001b[0;36m4\u001b[0m \u001b[0;34m/\u001b[0m \u001b[0;36m3.0\u001b[0m\u001b[0;34m]\u001b[0m\u001b[0;34m\u001b[0m\u001b[0m\n\u001b[0m",
      "\u001b[0;31mTypeError\u001b[0m: list indices must be integers, not float"
     ]
    }
   ],
   "source": [
    "# Python 3: not going to work\n",
    "my_list = ['a', 'b', 'c']\n",
    "my_list[4 / 3]"
   ]
  },
  {
   "cell_type": "markdown",
   "metadata": {},
   "source": [
    "### `range()` doesn't retrun a list anymore!\n",
    "In Py3 they have optimized `range()` to be faster (details aside). But now it doesn't return a list anymore:"
   ]
  },
  {
   "cell_type": "code",
   "execution_count": 10,
   "metadata": {},
   "outputs": [
    {
     "name": "stdout",
     "output_type": "stream",
     "text": [
      "[0, 1, 2, 3, 4, 5, 6, 7, 8, 9]\n",
      "<type 'list'>\n"
     ]
    }
   ],
   "source": [
    "# Python 2\n",
    "print(range(10))\n",
    "print(type(range(10)))"
   ]
  },
  {
   "cell_type": "code",
   "execution_count": 11,
   "metadata": {},
   "outputs": [
    {
     "name": "stdout",
     "output_type": "stream",
     "text": [
      "range(0, 10)\n",
      "<class 'range'>\n",
      "[0, 1, 2, 3, 4, 5, 6, 7, 8, 9]\n"
     ]
    }
   ],
   "source": [
    "# Python 3\n",
    "print(range(10))\n",
    "print(type(range(10)))\n",
    "\n",
    "# can still force it to be a list:\n",
    "print(list(range(10)))"
   ]
  },
  {
   "cell_type": "markdown",
   "metadata": {},
   "source": [
    "This is also true for `map()`, `filter()`, `reduce()` and some other functions that work with list of objects. They all now return a specific type. You can always convert them by wraping them in a list like above.\n",
    "\n",
    "### Rounding\n",
    "Rounding `0.5` always goes up in Py2 by in Py3 **They round to the nearest even numbet**. [This is the standard way of rounding.](https://en.wikipedia.org/wiki/IEEE_floating_point#Roundings_to_nearest)"
   ]
  },
  {
   "cell_type": "code",
   "execution_count": 16,
   "metadata": {},
   "outputs": [
    {
     "name": "stdout",
     "output_type": "stream",
     "text": [
      "16.0\n",
      "17.0\n"
     ]
    }
   ],
   "source": [
    "# Python 2\n",
    "print(round(15.5))\n",
    "print(round(16.5))"
   ]
  },
  {
   "cell_type": "code",
   "execution_count": 17,
   "metadata": {},
   "outputs": [
    {
     "name": "stdout",
     "output_type": "stream",
     "text": [
      "16.0\n",
      "16.0\n"
     ]
    }
   ],
   "source": [
    "# Python 3\n",
    "print(round(15.5))\n",
    "print(round(16.5))"
   ]
  },
  {
   "cell_type": "markdown",
   "metadata": {},
   "source": [
    "## Good to know changes\n",
    "\n",
    "### Unicode\n",
    "There has historically been a lot of issues with how Python 2 worked with strings that were not ASCII. It messed up unicode for example one way or another.\n",
    "\n",
    "In Python 3 they tried to fix this by being more strict about mixing unicode strings and byte strings (byte string are just normal strings you're used to).\n",
    "\n",
    "This shouldn't really affect your workflow, just be mindful when you see errors that compain about \"bytes\", \"unicode\" or character sets, you're most likely combining two incompatible type.\n",
    "\n",
    "### Exception Handling\n",
    "A slight syntax differece between the two version:"
   ]
  },
  {
   "cell_type": "code",
   "execution_count": 18,
   "metadata": {},
   "outputs": [
    {
     "name": "stdout",
     "output_type": "stream",
     "text": [
      "Bad Index!\n"
     ]
    }
   ],
   "source": [
    "# Python 2\n",
    "try:\n",
    "    a = [1, 2]\n",
    "    a[10]  # break!\n",
    "except IndexError, e:  # notice the \",\"\n",
    "    print(\"Bad Index!\")"
   ]
  },
  {
   "cell_type": "code",
   "execution_count": 19,
   "metadata": {},
   "outputs": [
    {
     "name": "stdout",
     "output_type": "stream",
     "text": [
      "Bad Index!\n"
     ]
    }
   ],
   "source": [
    "# Python 3\n",
    "try:\n",
    "    a = [1, 2]\n",
    "    a[10]  # break!\n",
    "except IndexError as e:  # notice now it's \"as\"\n",
    "    print(\"Bad Index!\")"
   ]
  },
  {
   "cell_type": "markdown",
   "metadata": {},
   "source": [
    "### Dictionary Iteration\n",
    "Some people do this in Python2:"
   ]
  },
  {
   "cell_type": "code",
   "execution_count": 20,
   "metadata": {},
   "outputs": [
    {
     "name": "stdout",
     "output_type": "stream",
     "text": [
      "a\n",
      "b\n"
     ]
    }
   ],
   "source": [
    "# Python 2\n",
    "my_dict = {'a': 1, 'b': 2}\n",
    "for key in my_dict.iterkeys():\n",
    "    print(key)"
   ]
  },
  {
   "cell_type": "markdown",
   "metadata": {},
   "source": [
    "This doesn't work in python anymore, instead use this which works in both:"
   ]
  },
  {
   "cell_type": "code",
   "execution_count": 21,
   "metadata": {},
   "outputs": [
    {
     "name": "stdout",
     "output_type": "stream",
     "text": [
      "a\n",
      "b\n"
     ]
    }
   ],
   "source": [
    "# Python 2 and 3\n",
    "my_dict = {'a': 1, 'b': 2}\n",
    "for key in my_dict:\n",
    "    print(key)"
   ]
  },
  {
   "cell_type": "markdown",
   "metadata": {},
   "source": [
    "Similarly, instead of this:"
   ]
  },
  {
   "cell_type": "code",
   "execution_count": 25,
   "metadata": {},
   "outputs": [
    {
     "name": "stdout",
     "output_type": "stream",
     "text": [
      "1\n",
      "2\n"
     ]
    }
   ],
   "source": [
    "# Python 2\n",
    "my_dict = {'a': 1, 'b': 2}\n",
    "for key in my_dict.itervalues():\n",
    "    print(key)"
   ]
  },
  {
   "cell_type": "markdown",
   "metadata": {},
   "source": [
    "do this:"
   ]
  },
  {
   "cell_type": "code",
   "execution_count": 26,
   "metadata": {},
   "outputs": [
    {
     "name": "stdout",
     "output_type": "stream",
     "text": [
      "1\n",
      "2\n"
     ]
    }
   ],
   "source": [
    "# Python 2 and 3\n",
    "my_dict = {'a': 1, 'b': 2}\n",
    "for key in my_dict.values():\n",
    "    print(key)"
   ]
  },
  {
   "cell_type": "markdown",
   "metadata": {},
   "source": [
    "# Migration Tool: 2 -> 3\n",
    "Now you know what the differences are, but the good news is migrating is super easy! there is an extension right in Jupyter that does it automatically for majority of cases.\n",
    "\n",
    "This is how to do it:\n",
    "\n",
    "## 1. Go to the Extensions tab\n",
    "This is a notebook extension, you can manage them all from the \"NbExtensions\" tab in the Jupyter homepage. Check them out, they're all great!\n",
    "\n",
    "![NBExtension Tab](../data/assets/2to3_p1.png)\n",
    "\n",
    "## 2. Enable the extension\n",
    "Find \"2to3 Converter\" and enable it. **Scroll Down and read the description and options** it explains how it works.\n",
    "\n",
    "![2to3 Converter](../data/assets/2to3_p2.png)\n",
    "\n",
    "## 3. Use it in your notebooks\n",
    "Now if you refresh your notebook page, you'll see the button in the toolbar. **Highlight the cells you want to fix** and click the button to test it out.\n",
    "\n",
    "![Use it!](../data/assets/2to3_p3.png)\n",
    "\n",
    "### `Try it on some of the cells above to test it out ;)`"
   ]
  },
  {
   "cell_type": "code",
   "execution_count": null,
   "metadata": {},
   "outputs": [],
   "source": []
  }
 ],
 "metadata": {
  "kernelspec": {
   "display_name": "Python 2",
   "language": "python",
   "name": "python2"
  },
  "language_info": {
   "codemirror_mode": {
    "name": "ipython",
    "version": 2
   },
   "file_extension": ".py",
   "mimetype": "text/x-python",
   "name": "python",
   "nbconvert_exporter": "python",
   "pygments_lexer": "ipython2",
   "version": "2.7.10"
  }
 },
 "nbformat": 4,
 "nbformat_minor": 2
}
