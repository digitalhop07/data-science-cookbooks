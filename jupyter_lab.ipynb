{
 "cells": [
  {
   "cell_type": "markdown",
   "metadata": {},
   "source": [
    "# JupyterLab: not just a new pretty front-end for Jupyer Notebooks"
   ]
  },
  {
   "cell_type": "markdown",
   "metadata": {},
   "source": [
    "## File Browser"
   ]
  },
  {
   "cell_type": "markdown",
   "metadata": {},
   "source": [
    "Though it is pretty pretty."
   ]
  },
  {
   "cell_type": "markdown",
   "metadata": {},
   "source": [
    "<- Look at that file explorer"
   ]
  },
  {
   "cell_type": "markdown",
   "metadata": {},
   "source": [
    "Just double click a file to run it, or right click for more options"
   ]
  },
  {
   "cell_type": "markdown",
   "metadata": {},
   "source": [
    "And it's super fast to start a new Notebook, just click + in top left of the File Browser."
   ]
  },
  {
   "cell_type": "markdown",
   "metadata": {},
   "source": [
    "Look at that snazzy new Launcher with R Notebooks out of the box also!"
   ]
  },
  {
   "cell_type": "markdown",
   "metadata": {},
   "source": [
    "Let's celebrate by downloading a gif, moving it to the right folder, and embedding it into this notebook without having to leave this tab!"
   ]
  },
  {
   "cell_type": "code",
   "execution_count": 1,
   "metadata": {},
   "outputs": [
    {
     "data": {
      "text/plain": [
       "('data-cat.gif', <http.client.HTTPMessage at 0x7fbd0ecc2c88>)"
      ]
     },
     "execution_count": 1,
     "metadata": {},
     "output_type": "execute_result"
    }
   ],
   "source": [
    "import urllib.request\n",
    "urllib.request.urlretrieve(\"https://media1.tenor.com/images/8f285c20303d91dd99827f191c2f639c/tenor.gif\", \"data-cat.gif\")"
   ]
  },
  {
   "cell_type": "markdown",
   "metadata": {},
   "source": [
    "Ah, we forgot to download it to the `../data/jupyter_lab_files` directory, let's move it... by dragging and dropping. Now display!"
   ]
  },
  {
   "cell_type": "markdown",
   "metadata": {},
   "source": [
    "<img src='../data/jupyter_lab_files/data-cat.gif'>"
   ]
  },
  {
   "cell_type": "markdown",
   "metadata": {},
   "source": [
    "### My Gif!"
   ]
  },
  {
   "cell_type": "markdown",
   "metadata": {},
   "source": [
    "Hey, waitasec, I also meant to have the gif in this section... Can you believe that files aren't the only thing you can drag and drop, but cells too! You can also hold shift to select multiple cells."
   ]
  },
  {
   "cell_type": "markdown",
   "metadata": {},
   "source": [
    "## CSVs...fast"
   ]
  },
  {
   "cell_type": "markdown",
   "metadata": {},
   "source": [
    "Let's download a 3.7 million row csv of all NYC restaurants and their health inspections. (Be aware, takes up 135 MB of space.) If you don't want to, you can open the 75,000 row backup.csv in the `jupyter_lab_files` folder."
   ]
  },
  {
   "cell_type": "code",
   "execution_count": 4,
   "metadata": {},
   "outputs": [],
   "source": [
    "I_WANT_TO_DOWNLOAD = False"
   ]
  },
  {
   "cell_type": "code",
   "execution_count": 5,
   "metadata": {},
   "outputs": [],
   "source": [
    "if I_WANT_TO_DOWNLOAD:\n",
    "    urllib.request.urlretrieve(\"https://data.cityofnewyork.us/api/views/xx67-kt59/rows.csv\", \"../data/jupyter_lab_files/csv.csv\")"
   ]
  },
  {
   "cell_type": "code",
   "execution_count": 6,
   "metadata": {},
   "outputs": [],
   "source": [
    "import pandas as pd\n",
    "try:\n",
    "    df = pd.read_csv(\"../data/jupyter_lab_files/csv.csv\")\n",
    "except:\n",
    "    df = pd.read_csv(\"../data/jupyter_lab_files/backup.csv\")"
   ]
  },
  {
   "cell_type": "code",
   "execution_count": 7,
   "metadata": {},
   "outputs": [
    {
     "data": {
      "text/html": [
       "<div>\n",
       "<style scoped>\n",
       "    .dataframe tbody tr th:only-of-type {\n",
       "        vertical-align: middle;\n",
       "    }\n",
       "\n",
       "    .dataframe tbody tr th {\n",
       "        vertical-align: top;\n",
       "    }\n",
       "\n",
       "    .dataframe thead th {\n",
       "        text-align: right;\n",
       "    }\n",
       "</style>\n",
       "<table border=\"1\" class=\"dataframe\">\n",
       "  <thead>\n",
       "    <tr style=\"text-align: right;\">\n",
       "      <th></th>\n",
       "      <th>CAMIS</th>\n",
       "      <th>DBA</th>\n",
       "      <th>BORO</th>\n",
       "      <th>BUILDING</th>\n",
       "      <th>STREET</th>\n",
       "      <th>ZIPCODE</th>\n",
       "      <th>PHONE</th>\n",
       "      <th>CUISINE DESCRIPTION</th>\n",
       "      <th>INSPECTION DATE</th>\n",
       "      <th>ACTION</th>\n",
       "      <th>VIOLATION CODE</th>\n",
       "      <th>VIOLATION DESCRIPTION</th>\n",
       "      <th>CRITICAL FLAG</th>\n",
       "      <th>SCORE</th>\n",
       "      <th>GRADE</th>\n",
       "      <th>GRADE DATE</th>\n",
       "      <th>RECORD DATE</th>\n",
       "      <th>INSPECTION TYPE</th>\n",
       "    </tr>\n",
       "  </thead>\n",
       "  <tbody>\n",
       "    <tr>\n",
       "      <th>0</th>\n",
       "      <td>50034221</td>\n",
       "      <td>AA CHINESE RESTAURANT</td>\n",
       "      <td>BRONX</td>\n",
       "      <td>214</td>\n",
       "      <td>E BURNSIDE AVE</td>\n",
       "      <td>10457.0</td>\n",
       "      <td>7182992218</td>\n",
       "      <td>Chinese</td>\n",
       "      <td>10/31/2017</td>\n",
       "      <td>Violations were cited in the following area(s).</td>\n",
       "      <td>04N</td>\n",
       "      <td>Filth flies or food/refuse/sewage-associated (...</td>\n",
       "      <td>Critical</td>\n",
       "      <td>12.0</td>\n",
       "      <td>A</td>\n",
       "      <td>10/31/2017</td>\n",
       "      <td>06/05/2018</td>\n",
       "      <td>Cycle Inspection / Initial Inspection</td>\n",
       "    </tr>\n",
       "    <tr>\n",
       "      <th>1</th>\n",
       "      <td>50046117</td>\n",
       "      <td>ASIAN GARDEN L &amp; Y</td>\n",
       "      <td>QUEENS</td>\n",
       "      <td>8417</td>\n",
       "      <td>JAMAICA AVE</td>\n",
       "      <td>11421.0</td>\n",
       "      <td>7188053636</td>\n",
       "      <td>Chinese</td>\n",
       "      <td>10/24/2016</td>\n",
       "      <td>Violations were cited in the following area(s).</td>\n",
       "      <td>10F</td>\n",
       "      <td>Non-food contact surface improperly constructe...</td>\n",
       "      <td>Not Critical</td>\n",
       "      <td>7.0</td>\n",
       "      <td>A</td>\n",
       "      <td>10/24/2016</td>\n",
       "      <td>06/05/2018</td>\n",
       "      <td>Cycle Inspection / Re-inspection</td>\n",
       "    </tr>\n",
       "    <tr>\n",
       "      <th>2</th>\n",
       "      <td>41278885</td>\n",
       "      <td>SAKURA JAPANESE RESTAURANT</td>\n",
       "      <td>BROOKLYN</td>\n",
       "      <td>3118</td>\n",
       "      <td>AVENUE U</td>\n",
       "      <td>11229.0</td>\n",
       "      <td>7186460666</td>\n",
       "      <td>Japanese</td>\n",
       "      <td>05/30/2017</td>\n",
       "      <td>Violations were cited in the following area(s).</td>\n",
       "      <td>06D</td>\n",
       "      <td>Food contact surface not properly washed, rins...</td>\n",
       "      <td>Critical</td>\n",
       "      <td>14.0</td>\n",
       "      <td>NaN</td>\n",
       "      <td>NaN</td>\n",
       "      <td>06/05/2018</td>\n",
       "      <td>Cycle Inspection / Initial Inspection</td>\n",
       "    </tr>\n",
       "    <tr>\n",
       "      <th>3</th>\n",
       "      <td>50056263</td>\n",
       "      <td>DUZER'S LOCAL CAFE + MARKET</td>\n",
       "      <td>STATEN ISLAND</td>\n",
       "      <td>387</td>\n",
       "      <td>VAN DUZER ST</td>\n",
       "      <td>10304.0</td>\n",
       "      <td>9176404867</td>\n",
       "      <td>CafÃ©/Coffee/Tea</td>\n",
       "      <td>03/07/2017</td>\n",
       "      <td>Violations were cited in the following area(s).</td>\n",
       "      <td>06D</td>\n",
       "      <td>Food contact surface not properly washed, rins...</td>\n",
       "      <td>Critical</td>\n",
       "      <td>20.0</td>\n",
       "      <td>NaN</td>\n",
       "      <td>NaN</td>\n",
       "      <td>06/05/2018</td>\n",
       "      <td>Cycle Inspection / Initial Inspection</td>\n",
       "    </tr>\n",
       "    <tr>\n",
       "      <th>4</th>\n",
       "      <td>41025191</td>\n",
       "      <td>MCDONALD'S</td>\n",
       "      <td>BRONX</td>\n",
       "      <td>1540</td>\n",
       "      <td>WESTCHESTER AVENUE</td>\n",
       "      <td>10472.0</td>\n",
       "      <td>7188422981</td>\n",
       "      <td>Hamburgers</td>\n",
       "      <td>04/14/2016</td>\n",
       "      <td>Violations were cited in the following area(s).</td>\n",
       "      <td>06C</td>\n",
       "      <td>Food not protected from potential source of co...</td>\n",
       "      <td>Critical</td>\n",
       "      <td>25.0</td>\n",
       "      <td>NaN</td>\n",
       "      <td>NaN</td>\n",
       "      <td>06/05/2018</td>\n",
       "      <td>Cycle Inspection / Initial Inspection</td>\n",
       "    </tr>\n",
       "  </tbody>\n",
       "</table>\n",
       "</div>"
      ],
      "text/plain": [
       "      CAMIS                          DBA           BORO BUILDING  \\\n",
       "0  50034221        AA CHINESE RESTAURANT          BRONX      214   \n",
       "1  50046117           ASIAN GARDEN L & Y         QUEENS     8417   \n",
       "2  41278885   SAKURA JAPANESE RESTAURANT       BROOKLYN     3118   \n",
       "3  50056263  DUZER'S LOCAL CAFE + MARKET  STATEN ISLAND      387   \n",
       "4  41025191                   MCDONALD'S          BRONX     1540   \n",
       "\n",
       "               STREET  ZIPCODE       PHONE CUISINE DESCRIPTION  \\\n",
       "0      E BURNSIDE AVE  10457.0  7182992218             Chinese   \n",
       "1         JAMAICA AVE  11421.0  7188053636             Chinese   \n",
       "2            AVENUE U  11229.0  7186460666            Japanese   \n",
       "3        VAN DUZER ST  10304.0  9176404867    CafÃ©/Coffee/Tea   \n",
       "4  WESTCHESTER AVENUE  10472.0  7188422981          Hamburgers   \n",
       "\n",
       "  INSPECTION DATE                                           ACTION  \\\n",
       "0      10/31/2017  Violations were cited in the following area(s).   \n",
       "1      10/24/2016  Violations were cited in the following area(s).   \n",
       "2      05/30/2017  Violations were cited in the following area(s).   \n",
       "3      03/07/2017  Violations were cited in the following area(s).   \n",
       "4      04/14/2016  Violations were cited in the following area(s).   \n",
       "\n",
       "  VIOLATION CODE                              VIOLATION DESCRIPTION  \\\n",
       "0            04N  Filth flies or food/refuse/sewage-associated (...   \n",
       "1            10F  Non-food contact surface improperly constructe...   \n",
       "2            06D  Food contact surface not properly washed, rins...   \n",
       "3            06D  Food contact surface not properly washed, rins...   \n",
       "4            06C  Food not protected from potential source of co...   \n",
       "\n",
       "  CRITICAL FLAG  SCORE GRADE  GRADE DATE RECORD DATE  \\\n",
       "0      Critical   12.0     A  10/31/2017  06/05/2018   \n",
       "1  Not Critical    7.0     A  10/24/2016  06/05/2018   \n",
       "2      Critical   14.0   NaN         NaN  06/05/2018   \n",
       "3      Critical   20.0   NaN         NaN  06/05/2018   \n",
       "4      Critical   25.0   NaN         NaN  06/05/2018   \n",
       "\n",
       "                         INSPECTION TYPE  \n",
       "0  Cycle Inspection / Initial Inspection  \n",
       "1       Cycle Inspection / Re-inspection  \n",
       "2  Cycle Inspection / Initial Inspection  \n",
       "3  Cycle Inspection / Initial Inspection  \n",
       "4  Cycle Inspection / Initial Inspection  "
      ]
     },
     "execution_count": 7,
     "metadata": {},
     "output_type": "execute_result"
    }
   ],
   "source": [
    "df.head()"
   ]
  },
  {
   "cell_type": "markdown",
   "metadata": {},
   "source": [
    "Ugh, too many rows taking up space. Let's collapse that window by clicking the blue bar to the left when you click on a cell."
   ]
  },
  {
   "cell_type": "markdown",
   "metadata": {},
   "source": [
    "## Running python files interactively"
   ]
  },
  {
   "cell_type": "markdown",
   "metadata": {},
   "source": [
    "Look inside `../data/jupyter_lab_files`\n",
    "\n",
    "Looks like someone wrote a python file which reads in the above csv. It's not in a notebook, but we can still step through it interactively to see what the results are at each point. We can also edit parts of it and re-run just the lines we want.\n",
    "\n",
    "Just open up the python file by double clicking. Highlight individual lines or blocks of code then press shift+Enter (or run from `Run` menu).\n",
    "\n",
    "Add \"roach\" to the list of keywords. No need to re-run the whole file! Just select everything starting from that line on down and run that. Nice job having to save yourself from re-loading the dataframe from csv!"
   ]
  },
  {
   "cell_type": "markdown",
   "metadata": {},
   "source": [
    "## Simultaneous tabs in one window!"
   ]
  },
  {
   "cell_type": "markdown",
   "metadata": {},
   "source": [
    "No more having to scroll through all the dozens of tabs to find the right Notebook window in your browser. Now you can keep them all in one tab and not have to switch browser tabs. Just open up a new Notebook from the Launcher."
   ]
  },
  {
   "cell_type": "markdown",
   "metadata": {},
   "source": [
    "Or even open up the same Notebook to copy paste between by right-clicking the tab and choosing \"New View for Notebook\"."
   ]
  },
  {
   "cell_type": "markdown",
   "metadata": {},
   "source": [
    "But what if you want to copy and paste from Notebook to notebook or refer to different parts of the same notebook. It's still kinda annoying to flip between tabs... Well now we can do side-by-side windows! Click and drag the tab and drop it on the right hand side of the browser window."
   ]
  },
  {
   "cell_type": "markdown",
   "metadata": {},
   "source": [
    "You can even do live editing and previewing of a number of file types. Let's try opening the markdown file in `../data/jupyter_lab_files`. Open up one tab in an editor and the other in preview mode. Set them up side by side and edit the one in the editor. See it change on the right."
   ]
  },
  {
   "cell_type": "markdown",
   "metadata": {},
   "source": [
    "### Other editors"
   ]
  },
  {
   "cell_type": "markdown",
   "metadata": {},
   "source": [
    "Let's go back to the launcher. Just like with Jupyter Notebook, we also can open Terminal and Text Editor. All the more reason you don't need to leave the Jupyter environment as much and save yourself from the friction of finding your place again and context switching..."
   ]
  },
  {
   "cell_type": "markdown",
   "metadata": {},
   "source": [
    "## Put it all together: New workflows"
   ]
  },
  {
   "cell_type": "markdown",
   "metadata": {},
   "source": [
    "Let open up a terminal window..."
   ]
  },
  {
   "cell_type": "markdown",
   "metadata": {},
   "source": [
    "What's the streamshare of Tier 0 artists and how many are there? I remember the table is in the content-creator-data project, but which dataset... You can run `bq ls --project_id=content-creator-data` in terminal or use `!` as in below in Notebook"
   ]
  },
  {
   "cell_type": "code",
   "execution_count": 35,
   "metadata": {},
   "outputs": [
    {
     "name": "stdout",
     "output_type": "stream",
     "text": [
      "       datasetId        \n",
      " ---------------------- \n",
      "  album_streams         \n",
      "  artist_features       \n",
      "  artist_split_streams  \n",
      "  artist_streams        \n",
      "  artist_streams_rank   \n",
      "  artist_users          \n",
      "  catalog               \n",
      "  dataset_stats         \n",
      "  events                \n",
      "  genre_mapping         \n",
      "  hubs                  \n",
      "  licensor_hierarchy    \n",
      "  licensor_metadata     \n",
      "  licensor_streamshare  \n",
      "  metadata              \n",
      "  nielsen               \n",
      "  streams_events        \n",
      "  track_streams         \n",
      "  track_users           \n",
      "  user_artist_streams   \n",
      "  user_genre            \n",
      "  user_track_streams    \n",
      "  wiggle_room           \n",
      "  wikipedia             \n"
     ]
    }
   ],
   "source": [
    "!bq ls --project_id=content-creator-data"
   ]
  },
  {
   "cell_type": "markdown",
   "metadata": {},
   "source": [
    "Let's open up a text editor with SQL syntax highlighting... We can develop the query right here in Jupyter without having to leave to go use a separate text editor or the BigQuery GUI. Stay inside the Jupyter environment and do less context switching."
   ]
  },
  {
   "cell_type": "code",
   "execution_count": 11,
   "metadata": {},
   "outputs": [],
   "source": [
    "from pandas.io import gbq\n",
    "from functools import partial"
   ]
  },
  {
   "cell_type": "code",
   "execution_count": 12,
   "metadata": {},
   "outputs": [],
   "source": [
    "project_I_have_access_to = 'content-creator-data'"
   ]
  },
  {
   "cell_type": "code",
   "execution_count": 13,
   "metadata": {},
   "outputs": [],
   "source": [
    "bq = partial(gbq.read_gbq, project_id=project_I_have_access_to,verbose=False,dialect='standard')"
   ]
  },
  {
   "cell_type": "markdown",
   "metadata": {},
   "source": [
    "(Note, `partial` is a nice way to supply common arguments once and re-use the function with those arguments pre-set in the future so you don't have to re-write it again.)"
   ]
  },
  {
   "cell_type": "markdown",
   "metadata": {},
   "source": [
    "So now that the query is all set, you can paste it below."
   ]
  },
  {
   "cell_type": "code",
   "execution_count": 36,
   "metadata": {},
   "outputs": [],
   "source": [
    "tiering_q = \"\"\"\n",
    "select sum(artist_split_streamshare) total, count(*)\n",
    "from `content-creator-data.artist_split_streams.main_artist_split_streamshare_90d_20180601`\n",
    "where tier=0\n",
    "\"\"\""
   ]
  },
  {
   "cell_type": "code",
   "execution_count": 37,
   "metadata": {},
   "outputs": [
    {
     "data": {
      "text/html": [
       "<div>\n",
       "<style scoped>\n",
       "    .dataframe tbody tr th:only-of-type {\n",
       "        vertical-align: middle;\n",
       "    }\n",
       "\n",
       "    .dataframe tbody tr th {\n",
       "        vertical-align: top;\n",
       "    }\n",
       "\n",
       "    .dataframe thead th {\n",
       "        text-align: right;\n",
       "    }\n",
       "</style>\n",
       "<table border=\"1\" class=\"dataframe\">\n",
       "  <thead>\n",
       "    <tr style=\"text-align: right;\">\n",
       "      <th></th>\n",
       "      <th>total</th>\n",
       "      <th>f0_</th>\n",
       "    </tr>\n",
       "  </thead>\n",
       "  <tbody>\n",
       "    <tr>\n",
       "      <th>0</th>\n",
       "      <td>0.28622</td>\n",
       "      <td>250</td>\n",
       "    </tr>\n",
       "  </tbody>\n",
       "</table>\n",
       "</div>"
      ],
      "text/plain": [
       "     total  f0_\n",
       "0  0.28622  250"
      ]
     },
     "execution_count": 37,
     "metadata": {},
     "output_type": "execute_result"
    }
   ],
   "source": [
    "bq(tiering_q)"
   ]
  },
  {
   "cell_type": "markdown",
   "metadata": {},
   "source": [
    "How about a more complex and gnarly query? Let's open up `../data/jupyter_lab_files/example_query.sql`"
   ]
  },
  {
   "cell_type": "code",
   "execution_count": 8,
   "metadata": {},
   "outputs": [],
   "source": [
    "with open('../data/jupyter_lab_files/example_query.sql') as f:\n",
    "    query = f.read()"
   ]
  },
  {
   "cell_type": "code",
   "execution_count": 14,
   "metadata": {},
   "outputs": [
    {
     "data": {
      "text/html": [
       "<div>\n",
       "<style scoped>\n",
       "    .dataframe tbody tr th:only-of-type {\n",
       "        vertical-align: middle;\n",
       "    }\n",
       "\n",
       "    .dataframe tbody tr th {\n",
       "        vertical-align: top;\n",
       "    }\n",
       "\n",
       "    .dataframe thead th {\n",
       "        text-align: right;\n",
       "    }\n",
       "</style>\n",
       "<table border=\"1\" class=\"dataframe\">\n",
       "  <thead>\n",
       "    <tr style=\"text-align: right;\">\n",
       "      <th></th>\n",
       "      <th>total_releases_in_2015</th>\n",
       "      <th>currently_available_2015_releases</th>\n",
       "      <th>have_US_availability</th>\n",
       "      <th>currently_available_in_US</th>\n",
       "    </tr>\n",
       "  </thead>\n",
       "  <tbody>\n",
       "    <tr>\n",
       "      <th>0</th>\n",
       "      <td>1166908</td>\n",
       "      <td>835773</td>\n",
       "      <td>778026</td>\n",
       "      <td>759566</td>\n",
       "    </tr>\n",
       "  </tbody>\n",
       "</table>\n",
       "</div>"
      ],
      "text/plain": [
       "   total_releases_in_2015  currently_available_2015_releases  \\\n",
       "0                 1166908                             835773   \n",
       "\n",
       "   have_US_availability  currently_available_in_US  \n",
       "0                778026                     759566  "
      ]
     },
     "execution_count": 14,
     "metadata": {},
     "output_type": "execute_result"
    }
   ],
   "source": [
    "bq(query)"
   ]
  },
  {
   "cell_type": "markdown",
   "metadata": {},
   "source": [
    "From your terminal, you can go ahead and push to github if you want..."
   ]
  },
  {
   "cell_type": "markdown",
   "metadata": {},
   "source": [
    "<img src='../data/jupyter_lab_files/environment.png' />"
   ]
  },
  {
   "cell_type": "markdown",
   "metadata": {},
   "source": [
    "Stay in the Jupyter environment longer, be a more efficient data scientist!"
   ]
  }
 ],
 "metadata": {
  "kernelspec": {
   "display_name": "Python 3",
   "language": "python",
   "name": "python3"
  },
  "language_info": {
   "codemirror_mode": {
    "name": "ipython",
    "version": 3
   },
   "file_extension": ".py",
   "mimetype": "text/x-python",
   "name": "python",
   "nbconvert_exporter": "python",
   "pygments_lexer": "ipython3",
   "version": "3.6.3"
  }
 },
 "nbformat": 4,
 "nbformat_minor": 2
}
